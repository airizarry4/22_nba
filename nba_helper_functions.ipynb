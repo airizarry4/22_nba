{
 "cells": [
  {
   "cell_type": "markdown",
   "metadata": {},
   "source": [
    "## Import Libraries"
   ]
  },
  {
   "cell_type": "code",
   "execution_count": null,
   "metadata": {},
   "outputs": [],
   "source": [
    "!pip install pandas -q; pip install bs4 -q; pip install html5lib -q; pip install matplotlib -q; pip install requests -q; pip install lxml -q; pip install tabulate -q"
   ]
  },
  {
   "cell_type": "code",
   "execution_count": 1,
   "metadata": {},
   "outputs": [],
   "source": [
    "import pandas as pd\n",
    "pd.options.display.max_columns = None\n",
    "from bs4 import BeautifulSoup\n",
    "import html5lib\n",
    "%matplotlib inline\n",
    "import matplotlib.pyplot as plt\n",
    "import time\n",
    "import glob\n",
    "import re\n",
    "import requests"
   ]
  },
  {
   "cell_type": "markdown",
   "metadata": {},
   "source": [
    "## Request HTML from given URL"
   ]
  },
  {
   "cell_type": "code",
   "execution_count": 2,
   "metadata": {},
   "outputs": [],
   "source": [
    "url = \"https://projects.fivethirtyeight.com/2022-nba-predictions/\"\n",
    "\n",
    "html = requests.get(url)"
   ]
  },
  {
   "cell_type": "markdown",
   "metadata": {},
   "source": [
    "## Create a BeautifulSoup object by passing the HTML to the BeautifulSoup() constructor"
   ]
  },
  {
   "cell_type": "code",
   "execution_count": 3,
   "metadata": {},
   "outputs": [],
   "source": [
    "soup = BeautifulSoup(html.text, \"html5lib\")"
   ]
  },
  {
   "cell_type": "markdown",
   "metadata": {},
   "source": [
    "## Grab prediction Table"
   ]
  },
  {
   "cell_type": "code",
   "execution_count": 4,
   "metadata": {},
   "outputs": [],
   "source": [
    "prediction_table = str(soup.select('table#standings-table')[0])"
   ]
  },
  {
   "cell_type": "markdown",
   "metadata": {},
   "source": [
    "## Read into Pandas"
   ]
  },
  {
   "cell_type": "code",
   "execution_count": 5,
   "metadata": {},
   "outputs": [],
   "source": [
    "projections = pd.read_html(prediction_table)[0]"
   ]
  },
  {
   "cell_type": "markdown",
   "metadata": {},
   "source": [
    "## Get rid of junk columns (e.g. logos/anything not numbers)"
   ]
  },
  {
   "cell_type": "code",
   "execution_count": 6,
   "metadata": {},
   "outputs": [],
   "source": [
    "projections.drop(projections.columns[[2,4,8,9,10,11,12,13]], axis=1, inplace=True)"
   ]
  },
  {
   "cell_type": "markdown",
   "metadata": {},
   "source": [
    "## Rename Column Headers"
   ]
  },
  {
   "cell_type": "code",
   "execution_count": 7,
   "metadata": {},
   "outputs": [],
   "source": [
    "projections.columns = ['Current rating', '1 Week Change', 'Teams', 'Full-strength rating', 'Projected Record', 'Proj. Point Diff/G']\n",
    "#list(projections)"
   ]
  },
  {
   "cell_type": "markdown",
   "metadata": {},
   "source": [
    "## Create new column called Projected Wins by spliting on the hyphen in Projected Record"
   ]
  },
  {
   "cell_type": "code",
   "execution_count": 8,
   "metadata": {},
   "outputs": [],
   "source": [
    "projections['Projected Wins'] = projections['Projected Record'].str.split('-', 1).str[0]"
   ]
  },
  {
   "cell_type": "markdown",
   "metadata": {},
   "source": [
    "## Create 3 new columns called Current Wins, Current Loses, and Games Left"
   ]
  },
  {
   "cell_type": "code",
   "execution_count": 9,
   "metadata": {},
   "outputs": [],
   "source": [
    "teamconcat = projections['Teams']\n",
    "teamlist = []\n",
    "templist = []\n",
    "templist1 = []\n",
    "tempGR = []\n",
    "for team in teamconcat:\n",
    "    t = re.search('([76]{0,2}[a-zA-Z\\s]{3,14})([0-9]{1,2})?[-]?([0-9]{1,2})?', team)\n",
    "    if(t != None):\n",
    "        teamlist.append(t.group(1))\n",
    "        if(t.group(2) != None and t.group(3) != None):\n",
    "            templist.append(t.group(2))\n",
    "            templist1.append(t.group(3))\n",
    "            tempGR.append(82 - (int(t.group(2)) + int(t.group(3))))\n",
    "        else:\n",
    "            templist.append(0)\n",
    "            templist1.append(0)\n",
    "            tempGR.append(82)\n",
    "    else:\n",
    "        templist.append(0)\n",
    "        templist1.append(0)\n",
    "        tempGR.append(82)\n",
    "CurWins = pd.Series(templist)\n",
    "CurLoses = pd.Series(templist1)\n",
    "CurGR = pd.Series(tempGR)\n",
    "if teamlist:\n",
    "    CurTeams = pd.Series(teamlist)\n",
    "    projections['Teams'] = CurTeams.values\n",
    "projections['Current Wins'] = CurWins.values\n",
    "projections['Current Loses'] = CurLoses.values\n",
    "projections['Games Left'] = CurGR.values"
   ]
  },
  {
   "cell_type": "code",
   "execution_count": 10,
   "metadata": {},
   "outputs": [
    {
     "data": {
      "text/html": [
       "<div>\n",
       "<style scoped>\n",
       "    .dataframe tbody tr th:only-of-type {\n",
       "        vertical-align: middle;\n",
       "    }\n",
       "\n",
       "    .dataframe tbody tr th {\n",
       "        vertical-align: top;\n",
       "    }\n",
       "\n",
       "    .dataframe thead th {\n",
       "        text-align: right;\n",
       "    }\n",
       "</style>\n",
       "<table border=\"1\" class=\"dataframe\">\n",
       "  <thead>\n",
       "    <tr style=\"text-align: right;\">\n",
       "      <th></th>\n",
       "      <th>Current rating</th>\n",
       "      <th>1 Week Change</th>\n",
       "      <th>Teams</th>\n",
       "      <th>Full-strength rating</th>\n",
       "      <th>Projected Record</th>\n",
       "      <th>Proj. Point Diff/G</th>\n",
       "      <th>Projected Wins</th>\n",
       "      <th>Current Wins</th>\n",
       "      <th>Current Loses</th>\n",
       "      <th>Games Left</th>\n",
       "    </tr>\n",
       "  </thead>\n",
       "  <tbody>\n",
       "    <tr>\n",
       "      <th>0</th>\n",
       "      <td>1600</td>\n",
       "      <td>NaN</td>\n",
       "      <td>Bucks</td>\n",
       "      <td>1673</td>\n",
       "      <td>53-29</td>\n",
       "      <td>4.8</td>\n",
       "      <td>53</td>\n",
       "      <td>4</td>\n",
       "      <td>5</td>\n",
       "      <td>73</td>\n",
       "    </tr>\n",
       "    <tr>\n",
       "      <th>1</th>\n",
       "      <td>1667</td>\n",
       "      <td>NaN</td>\n",
       "      <td>Jazz</td>\n",
       "      <td>1672</td>\n",
       "      <td>58-24</td>\n",
       "      <td>6.9</td>\n",
       "      <td>58</td>\n",
       "      <td>7</td>\n",
       "      <td>1</td>\n",
       "      <td>74</td>\n",
       "    </tr>\n",
       "    <tr>\n",
       "      <th>2</th>\n",
       "      <td>1596</td>\n",
       "      <td>NaN</td>\n",
       "      <td>Clippers</td>\n",
       "      <td>1657</td>\n",
       "      <td>47-35</td>\n",
       "      <td>2.5</td>\n",
       "      <td>47</td>\n",
       "      <td>4</td>\n",
       "      <td>4</td>\n",
       "      <td>74</td>\n",
       "    </tr>\n",
       "    <tr>\n",
       "      <th>3</th>\n",
       "      <td>1595</td>\n",
       "      <td>NaN</td>\n",
       "      <td>Nuggets</td>\n",
       "      <td>1633</td>\n",
       "      <td>50-32</td>\n",
       "      <td>3.8</td>\n",
       "      <td>50</td>\n",
       "      <td>4</td>\n",
       "      <td>4</td>\n",
       "      <td>74</td>\n",
       "    </tr>\n",
       "    <tr>\n",
       "      <th>4</th>\n",
       "      <td>1613</td>\n",
       "      <td>NaN</td>\n",
       "      <td>76ers</td>\n",
       "      <td>1656</td>\n",
       "      <td>53-29</td>\n",
       "      <td>4.7</td>\n",
       "      <td>53</td>\n",
       "      <td>7</td>\n",
       "      <td>2</td>\n",
       "      <td>73</td>\n",
       "    </tr>\n",
       "    <tr>\n",
       "      <th>5</th>\n",
       "      <td>1592</td>\n",
       "      <td>NaN</td>\n",
       "      <td>Nets</td>\n",
       "      <td>1654</td>\n",
       "      <td>49-33</td>\n",
       "      <td>2.6</td>\n",
       "      <td>49</td>\n",
       "      <td>6</td>\n",
       "      <td>3</td>\n",
       "      <td>73</td>\n",
       "    </tr>\n",
       "    <tr>\n",
       "      <th>6</th>\n",
       "      <td>1626</td>\n",
       "      <td>NaN</td>\n",
       "      <td>Suns</td>\n",
       "      <td>1619</td>\n",
       "      <td>50-32</td>\n",
       "      <td>3.3</td>\n",
       "      <td>50</td>\n",
       "      <td>4</td>\n",
       "      <td>3</td>\n",
       "      <td>75</td>\n",
       "    </tr>\n",
       "    <tr>\n",
       "      <th>7</th>\n",
       "      <td>1588</td>\n",
       "      <td>NaN</td>\n",
       "      <td>Heat</td>\n",
       "      <td>1600</td>\n",
       "      <td>50-32</td>\n",
       "      <td>3.8</td>\n",
       "      <td>50</td>\n",
       "      <td>6</td>\n",
       "      <td>2</td>\n",
       "      <td>74</td>\n",
       "    </tr>\n",
       "    <tr>\n",
       "      <th>8</th>\n",
       "      <td>1576</td>\n",
       "      <td>NaN</td>\n",
       "      <td>Celtics</td>\n",
       "      <td>1576</td>\n",
       "      <td>44-38</td>\n",
       "      <td>1.3</td>\n",
       "      <td>44</td>\n",
       "      <td>4</td>\n",
       "      <td>5</td>\n",
       "      <td>73</td>\n",
       "    </tr>\n",
       "    <tr>\n",
       "      <th>9</th>\n",
       "      <td>1592</td>\n",
       "      <td>NaN</td>\n",
       "      <td>Trail Blazers</td>\n",
       "      <td>1592</td>\n",
       "      <td>46-36</td>\n",
       "      <td>2.5</td>\n",
       "      <td>46</td>\n",
       "      <td>4</td>\n",
       "      <td>5</td>\n",
       "      <td>73</td>\n",
       "    </tr>\n",
       "    <tr>\n",
       "      <th>10</th>\n",
       "      <td>1582</td>\n",
       "      <td>NaN</td>\n",
       "      <td>Hawks</td>\n",
       "      <td>1580</td>\n",
       "      <td>46-36</td>\n",
       "      <td>1.9</td>\n",
       "      <td>46</td>\n",
       "      <td>4</td>\n",
       "      <td>5</td>\n",
       "      <td>73</td>\n",
       "    </tr>\n",
       "    <tr>\n",
       "      <th>11</th>\n",
       "      <td>1571</td>\n",
       "      <td>NaN</td>\n",
       "      <td>Mavericks</td>\n",
       "      <td>1575</td>\n",
       "      <td>47-35</td>\n",
       "      <td>1.3</td>\n",
       "      <td>47</td>\n",
       "      <td>5</td>\n",
       "      <td>3</td>\n",
       "      <td>74</td>\n",
       "    </tr>\n",
       "    <tr>\n",
       "      <th>12</th>\n",
       "      <td>1408</td>\n",
       "      <td>NaN</td>\n",
       "      <td>Lakers</td>\n",
       "      <td>1525</td>\n",
       "      <td>39-43</td>\n",
       "      <td>-0.8</td>\n",
       "      <td>39</td>\n",
       "      <td>5</td>\n",
       "      <td>4</td>\n",
       "      <td>73</td>\n",
       "    </tr>\n",
       "    <tr>\n",
       "      <th>13</th>\n",
       "      <td>1570</td>\n",
       "      <td>NaN</td>\n",
       "      <td>Knicks</td>\n",
       "      <td>1570</td>\n",
       "      <td>46-36</td>\n",
       "      <td>1.7</td>\n",
       "      <td>46</td>\n",
       "      <td>6</td>\n",
       "      <td>3</td>\n",
       "      <td>73</td>\n",
       "    </tr>\n",
       "    <tr>\n",
       "      <th>14</th>\n",
       "      <td>1548</td>\n",
       "      <td>NaN</td>\n",
       "      <td>Pacers</td>\n",
       "      <td>1544</td>\n",
       "      <td>41-41</td>\n",
       "      <td>0.8</td>\n",
       "      <td>41</td>\n",
       "      <td>3</td>\n",
       "      <td>7</td>\n",
       "      <td>72</td>\n",
       "    </tr>\n",
       "    <tr>\n",
       "      <th>15</th>\n",
       "      <td>1556</td>\n",
       "      <td>NaN</td>\n",
       "      <td>Warriors</td>\n",
       "      <td>1525</td>\n",
       "      <td>42-40</td>\n",
       "      <td>0.8</td>\n",
       "      <td>42</td>\n",
       "      <td>7</td>\n",
       "      <td>1</td>\n",
       "      <td>74</td>\n",
       "    </tr>\n",
       "    <tr>\n",
       "      <th>16</th>\n",
       "      <td>1467</td>\n",
       "      <td>NaN</td>\n",
       "      <td>Pelicans</td>\n",
       "      <td>1524</td>\n",
       "      <td>36-46</td>\n",
       "      <td>-1.7</td>\n",
       "      <td>36</td>\n",
       "      <td>1</td>\n",
       "      <td>9</td>\n",
       "      <td>72</td>\n",
       "    </tr>\n",
       "    <tr>\n",
       "      <th>17</th>\n",
       "      <td>1527</td>\n",
       "      <td>NaN</td>\n",
       "      <td>Grizzlies</td>\n",
       "      <td>1539</td>\n",
       "      <td>43-39</td>\n",
       "      <td>0.0</td>\n",
       "      <td>43</td>\n",
       "      <td>5</td>\n",
       "      <td>4</td>\n",
       "      <td>73</td>\n",
       "    </tr>\n",
       "    <tr>\n",
       "      <th>18</th>\n",
       "      <td>1515</td>\n",
       "      <td>NaN</td>\n",
       "      <td>Raptors</td>\n",
       "      <td>1532</td>\n",
       "      <td>41-41</td>\n",
       "      <td>0.3</td>\n",
       "      <td>41</td>\n",
       "      <td>6</td>\n",
       "      <td>4</td>\n",
       "      <td>72</td>\n",
       "    </tr>\n",
       "    <tr>\n",
       "      <th>19</th>\n",
       "      <td>1528</td>\n",
       "      <td>NaN</td>\n",
       "      <td>Wizards</td>\n",
       "      <td>1516</td>\n",
       "      <td>42-40</td>\n",
       "      <td>0.3</td>\n",
       "      <td>42</td>\n",
       "      <td>6</td>\n",
       "      <td>3</td>\n",
       "      <td>73</td>\n",
       "    </tr>\n",
       "    <tr>\n",
       "      <th>20</th>\n",
       "      <td>1529</td>\n",
       "      <td>NaN</td>\n",
       "      <td>Bulls</td>\n",
       "      <td>1520</td>\n",
       "      <td>42-40</td>\n",
       "      <td>0.4</td>\n",
       "      <td>42</td>\n",
       "      <td>6</td>\n",
       "      <td>2</td>\n",
       "      <td>74</td>\n",
       "    </tr>\n",
       "    <tr>\n",
       "      <th>21</th>\n",
       "      <td>1480</td>\n",
       "      <td>NaN</td>\n",
       "      <td>Hornets</td>\n",
       "      <td>1480</td>\n",
       "      <td>36-46</td>\n",
       "      <td>-2.2</td>\n",
       "      <td>36</td>\n",
       "      <td>5</td>\n",
       "      <td>5</td>\n",
       "      <td>72</td>\n",
       "    </tr>\n",
       "    <tr>\n",
       "      <th>22</th>\n",
       "      <td>1483</td>\n",
       "      <td>NaN</td>\n",
       "      <td>Kings</td>\n",
       "      <td>1483</td>\n",
       "      <td>37-45</td>\n",
       "      <td>-1.2</td>\n",
       "      <td>37</td>\n",
       "      <td>5</td>\n",
       "      <td>4</td>\n",
       "      <td>73</td>\n",
       "    </tr>\n",
       "    <tr>\n",
       "      <th>23</th>\n",
       "      <td>1453</td>\n",
       "      <td>NaN</td>\n",
       "      <td>Spurs</td>\n",
       "      <td>1487</td>\n",
       "      <td>36-46</td>\n",
       "      <td>-1.2</td>\n",
       "      <td>36</td>\n",
       "      <td>3</td>\n",
       "      <td>6</td>\n",
       "      <td>73</td>\n",
       "    </tr>\n",
       "    <tr>\n",
       "      <th>24</th>\n",
       "      <td>1488</td>\n",
       "      <td>NaN</td>\n",
       "      <td>Timberwolves</td>\n",
       "      <td>1486</td>\n",
       "      <td>35-47</td>\n",
       "      <td>-2.3</td>\n",
       "      <td>35</td>\n",
       "      <td>3</td>\n",
       "      <td>5</td>\n",
       "      <td>74</td>\n",
       "    </tr>\n",
       "    <tr>\n",
       "      <th>25</th>\n",
       "      <td>1374</td>\n",
       "      <td>NaN</td>\n",
       "      <td>Cavaliers</td>\n",
       "      <td>1410</td>\n",
       "      <td>32-50</td>\n",
       "      <td>-4.0</td>\n",
       "      <td>32</td>\n",
       "      <td>6</td>\n",
       "      <td>4</td>\n",
       "      <td>72</td>\n",
       "    </tr>\n",
       "    <tr>\n",
       "      <th>26</th>\n",
       "      <td>1346</td>\n",
       "      <td>NaN</td>\n",
       "      <td>Magic</td>\n",
       "      <td>1371</td>\n",
       "      <td>24-58</td>\n",
       "      <td>-6.6</td>\n",
       "      <td>24</td>\n",
       "      <td>2</td>\n",
       "      <td>8</td>\n",
       "      <td>72</td>\n",
       "    </tr>\n",
       "    <tr>\n",
       "      <th>27</th>\n",
       "      <td>1311</td>\n",
       "      <td>NaN</td>\n",
       "      <td>Thunder</td>\n",
       "      <td>1311</td>\n",
       "      <td>21-61</td>\n",
       "      <td>-8.5</td>\n",
       "      <td>21</td>\n",
       "      <td>2</td>\n",
       "      <td>6</td>\n",
       "      <td>74</td>\n",
       "    </tr>\n",
       "    <tr>\n",
       "      <th>28</th>\n",
       "      <td>1340</td>\n",
       "      <td>NaN</td>\n",
       "      <td>Pistons</td>\n",
       "      <td>1340</td>\n",
       "      <td>21-61</td>\n",
       "      <td>-7.7</td>\n",
       "      <td>21</td>\n",
       "      <td>1</td>\n",
       "      <td>8</td>\n",
       "      <td>73</td>\n",
       "    </tr>\n",
       "    <tr>\n",
       "      <th>29</th>\n",
       "      <td>1328</td>\n",
       "      <td>NaN</td>\n",
       "      <td>Rockets</td>\n",
       "      <td>1334</td>\n",
       "      <td>21-61</td>\n",
       "      <td>-7.6</td>\n",
       "      <td>21</td>\n",
       "      <td>1</td>\n",
       "      <td>7</td>\n",
       "      <td>74</td>\n",
       "    </tr>\n",
       "  </tbody>\n",
       "</table>\n",
       "</div>"
      ],
      "text/plain": [
       "    Current rating  1 Week Change          Teams  Full-strength rating  \\\n",
       "0             1600            NaN          Bucks                  1673   \n",
       "1             1667            NaN           Jazz                  1672   \n",
       "2             1596            NaN       Clippers                  1657   \n",
       "3             1595            NaN        Nuggets                  1633   \n",
       "4             1613            NaN          76ers                  1656   \n",
       "5             1592            NaN           Nets                  1654   \n",
       "6             1626            NaN           Suns                  1619   \n",
       "7             1588            NaN           Heat                  1600   \n",
       "8             1576            NaN        Celtics                  1576   \n",
       "9             1592            NaN  Trail Blazers                  1592   \n",
       "10            1582            NaN          Hawks                  1580   \n",
       "11            1571            NaN      Mavericks                  1575   \n",
       "12            1408            NaN         Lakers                  1525   \n",
       "13            1570            NaN         Knicks                  1570   \n",
       "14            1548            NaN         Pacers                  1544   \n",
       "15            1556            NaN       Warriors                  1525   \n",
       "16            1467            NaN       Pelicans                  1524   \n",
       "17            1527            NaN      Grizzlies                  1539   \n",
       "18            1515            NaN        Raptors                  1532   \n",
       "19            1528            NaN        Wizards                  1516   \n",
       "20            1529            NaN          Bulls                  1520   \n",
       "21            1480            NaN        Hornets                  1480   \n",
       "22            1483            NaN          Kings                  1483   \n",
       "23            1453            NaN          Spurs                  1487   \n",
       "24            1488            NaN   Timberwolves                  1486   \n",
       "25            1374            NaN      Cavaliers                  1410   \n",
       "26            1346            NaN          Magic                  1371   \n",
       "27            1311            NaN        Thunder                  1311   \n",
       "28            1340            NaN        Pistons                  1340   \n",
       "29            1328            NaN        Rockets                  1334   \n",
       "\n",
       "   Projected Record  Proj. Point Diff/G Projected Wins Current Wins  \\\n",
       "0             53-29                 4.8             53            4   \n",
       "1             58-24                 6.9             58            7   \n",
       "2             47-35                 2.5             47            4   \n",
       "3             50-32                 3.8             50            4   \n",
       "4             53-29                 4.7             53            7   \n",
       "5             49-33                 2.6             49            6   \n",
       "6             50-32                 3.3             50            4   \n",
       "7             50-32                 3.8             50            6   \n",
       "8             44-38                 1.3             44            4   \n",
       "9             46-36                 2.5             46            4   \n",
       "10            46-36                 1.9             46            4   \n",
       "11            47-35                 1.3             47            5   \n",
       "12            39-43                -0.8             39            5   \n",
       "13            46-36                 1.7             46            6   \n",
       "14            41-41                 0.8             41            3   \n",
       "15            42-40                 0.8             42            7   \n",
       "16            36-46                -1.7             36            1   \n",
       "17            43-39                 0.0             43            5   \n",
       "18            41-41                 0.3             41            6   \n",
       "19            42-40                 0.3             42            6   \n",
       "20            42-40                 0.4             42            6   \n",
       "21            36-46                -2.2             36            5   \n",
       "22            37-45                -1.2             37            5   \n",
       "23            36-46                -1.2             36            3   \n",
       "24            35-47                -2.3             35            3   \n",
       "25            32-50                -4.0             32            6   \n",
       "26            24-58                -6.6             24            2   \n",
       "27            21-61                -8.5             21            2   \n",
       "28            21-61                -7.7             21            1   \n",
       "29            21-61                -7.6             21            1   \n",
       "\n",
       "   Current Loses  Games Left  \n",
       "0              5          73  \n",
       "1              1          74  \n",
       "2              4          74  \n",
       "3              4          74  \n",
       "4              2          73  \n",
       "5              3          73  \n",
       "6              3          75  \n",
       "7              2          74  \n",
       "8              5          73  \n",
       "9              5          73  \n",
       "10             5          73  \n",
       "11             3          74  \n",
       "12             4          73  \n",
       "13             3          73  \n",
       "14             7          72  \n",
       "15             1          74  \n",
       "16             9          72  \n",
       "17             4          73  \n",
       "18             4          72  \n",
       "19             3          73  \n",
       "20             2          74  \n",
       "21             5          72  \n",
       "22             4          73  \n",
       "23             6          73  \n",
       "24             5          74  \n",
       "25             4          72  \n",
       "26             8          72  \n",
       "27             6          74  \n",
       "28             8          73  \n",
       "29             7          74  "
      ]
     },
     "execution_count": 10,
     "metadata": {},
     "output_type": "execute_result"
    }
   ],
   "source": [
    "projections"
   ]
  },
  {
   "cell_type": "markdown",
   "metadata": {},
   "source": [
    "## You need to have the following csv file in the same folder as the ipynb."
   ]
  },
  {
   "cell_type": "code",
   "execution_count": 10,
   "metadata": {},
   "outputs": [],
   "source": [
    "over_unders = pd.read_csv('bets_lite_22.csv')\n",
    "#over_unders.head()"
   ]
  },
  {
   "cell_type": "markdown",
   "metadata": {},
   "source": [
    "## Merge the CSV with the Prediction Table"
   ]
  },
  {
   "cell_type": "code",
   "execution_count": 11,
   "metadata": {},
   "outputs": [],
   "source": [
    "master_projections = pd.merge(left=projections ,right=over_unders, on='Teams')"
   ]
  },
  {
   "cell_type": "markdown",
   "metadata": {},
   "source": [
    "## List of characters representing participants in the Bets Table"
   ]
  },
  {
   "cell_type": "code",
   "execution_count": 12,
   "metadata": {},
   "outputs": [],
   "source": [
    "migos = [\n",
    "         {'name': 'Allie', 'character' : 'L'},\n",
    "         {'name': 'Amanda', 'character' : 'G'},\n",
    "         {'name': 'Antonio', 'character' : 'A'},\n",
    "         {'name': 'Morgan', 'character' : 'M'},\n",
    "         {'name': 'Nick', 'character' : 'N'},\n",
    "         {'name': '538', 'character' : '538'}\n",
    "] "
   ]
  },
  {
   "cell_type": "markdown",
   "metadata": {},
   "source": [
    "## Create a function to calculate the # of correct Over Unders"
   ]
  },
  {
   "cell_type": "code",
   "execution_count": 13,
   "metadata": {},
   "outputs": [],
   "source": [
    "def number_right(a_list):\n",
    "    \"\"\"\n",
    "    Function that takes a list of single characters and calculates whether or not the characters bet was over \n",
    "    or under based on projected win totals and games remaining, assigns them a 1 or 0 respectively and adds that \n",
    "    value to a new column in the dataFrame\n",
    "    \"\"\"\n",
    "    for s in a_list:\n",
    "        temp_nums = []\n",
    "        proWins = master_projections['Projected Wins']\n",
    "        overUnder = master_projections['Over/Under']\n",
    "        guess = master_projections['%s'% s['character']]\n",
    "        for wins, ovun, pick in zip(proWins, overUnder, guess):\n",
    "            if (((int(wins) > ovun) & (pick == 'O')) | ((int(wins) < ovun) & (pick == 'U'))):\n",
    "                temp_nums.append(1)\n",
    "            else:\n",
    "                temp_nums.append(0)\n",
    "        se = pd.Series(temp_nums)\n",
    "        master_projections['%s #'% s['character']] = se.values"
   ]
  },
  {
   "cell_type": "markdown",
   "metadata": {},
   "source": [
    "## Call the number_right function, and pass in the list of friends"
   ]
  },
  {
   "cell_type": "code",
   "execution_count": 14,
   "metadata": {},
   "outputs": [],
   "source": [
    "number_right(migos)"
   ]
  },
  {
   "cell_type": "markdown",
   "metadata": {},
   "source": [
    "## Create a function to calculate the amount of $ won"
   ]
  },
  {
   "cell_type": "code",
   "execution_count": 15,
   "metadata": {},
   "outputs": [],
   "source": [
    "def get_money(a_list):\n",
    "    \"\"\"\n",
    "    Function that takes a list of single characters and calculates the amount of money won based on \n",
    "    the amount of capital allocated and whether or not the over under was correct. The result is \n",
    "    added to a new column in the dataFrame\n",
    "    \"\"\"\n",
    "    for s in a_list:\n",
    "        temp_bills = []\n",
    "        bets = master_projections['%s Bets'% s['character']] \n",
    "        overunWins = master_projections['%s #'% s['character']] \n",
    "        for b, o in zip(bets, overunWins):\n",
    "            temp_bills.append(b*o)\n",
    "        se = pd.Series(temp_bills)\n",
    "        master_projections['%s $'% s['character']] = se.values"
   ]
  },
  {
   "cell_type": "markdown",
   "metadata": {},
   "source": [
    "## Call the get_money function, and pass in the list of friends"
   ]
  },
  {
   "cell_type": "code",
   "execution_count": 16,
   "metadata": {},
   "outputs": [],
   "source": [
    "get_money(migos)"
   ]
  },
  {
   "cell_type": "markdown",
   "metadata": {},
   "source": [
    "## Create Pandas dataFrame with the Total Correct O/Us and Total Money Won"
   ]
  },
  {
   "cell_type": "code",
   "execution_count": 17,
   "metadata": {},
   "outputs": [],
   "source": [
    "temp_total = [master_projections['%s #'% s['character']].sum() for s in migos]\n",
    "temp_money = [master_projections['%s $'% s['character']].sum() for s in migos]\n",
    "peeps = [s['name'] for s in migos]\n",
    "peeps_sorted = [s['name'] for s in migos]\n",
    "peeps_sorted.sort()\n",
    "total = [dict(zip(peeps, temp_total)), dict(zip(peeps, temp_money))]\n",
    "final_total = pd.DataFrame(total)\n",
    "final_total.rename(index={0:'Correct O/Us',1:'Money Won'}, inplace=True)"
   ]
  },
  {
   "cell_type": "markdown",
   "metadata": {},
   "source": [
    "## Check to see if the proper directories exist, and make them if they don't"
   ]
  },
  {
   "cell_type": "code",
   "execution_count": 18,
   "metadata": {},
   "outputs": [],
   "source": [
    "from pathlib import Path\n",
    "\n",
    "mp_path = Path(\"output/master_projections\")\n",
    "ft_path = Path(\"output/final_total\")\n",
    "\n",
    "if not mp_path.exists():\n",
    "    Path('output/master_projections').mkdir(parents=True, exist_ok=True)\n",
    "if not ft_path.exists():\n",
    "    Path('output/final_total').mkdir(parents=True, exist_ok=True)"
   ]
  },
  {
   "cell_type": "markdown",
   "metadata": {},
   "source": [
    "## Save master_projections & final_total as CSVs to their respective directories"
   ]
  },
  {
   "cell_type": "code",
   "execution_count": 19,
   "metadata": {},
   "outputs": [],
   "source": [
    "master_projections.to_csv('output/master_projections/538_master_projections_'+ (time.strftime(\"%m_%d_%Y_%H_%M_%S\")) + '.csv', encoding = 'utf-8')\n",
    "final_total.to_csv('output/final_total/538_final_total_'+ (time.strftime(\"%m_%d_%Y_%H_%M_%S\")) + '.csv', encoding = 'utf-8')"
   ]
  },
  {
   "cell_type": "markdown",
   "metadata": {},
   "source": [
    "## Create a function to graph the results of the bet over time"
   ]
  },
  {
   "cell_type": "code",
   "execution_count": 20,
   "metadata": {},
   "outputs": [],
   "source": [
    "def final_line_graph():\n",
    "    \"\"\"\n",
    "    Function that doesn't take any arguments but when invoked will pull all CSVs out of the final_total\n",
    "    directory and will use the timestamps and values in the CSV to plot a timeseries line graph of both\n",
    "    the wins and the money won, on seperate sub-plots\n",
    "    \"\"\"\n",
    "    #Create Dateframe to contain all the output\n",
    "    Files = []\n",
    "    FT = glob.glob('output/final_total/538_*.csv')\n",
    "    for val in FT:\n",
    "        # define the dataframe\n",
    "        data = pd.read_csv(val)\n",
    "        m=re.search('538_final_total_([0-9]{2}\\_[0-9]{2}\\_[0-9]{4}_[0-9]{2}\\_[0-9]{2}\\_[0-9]{2})\\.csv',val)\n",
    "        for s in migos:\n",
    "            Files.append(pd.DataFrame([['%s'%s['name'],data['%s'%s['name']][0],data['%s'%s['name']][1], m.group(1)]]))\n",
    "    df = pd.concat(Files, axis=0)\n",
    "    df.columns = ['name','wins','money','datetime']\n",
    "    df['datetime'] = pd.to_datetime(df['datetime'], format='%m_%d_%Y_%H_%M_%S')\n",
    "    df = df.reset_index(drop=True)\n",
    "    df = df.sort_values('datetime', ascending=True).reset_index()\n",
    "    df.drop(df.columns[0], axis=1, inplace=True)\n",
    "    #plot data\n",
    "    fig, (ax1, ax2) = plt.subplots(2,1, num=\"Standings Over Time\",sharex=True)\n",
    "    df.groupby('name').plot(x='datetime', y='wins', ax=ax1, ylim=(8,26))\n",
    "    df.groupby('name').plot(x='datetime', y='money', ax=ax2, ylim=(140,500), legend=False)\n",
    "    ax1.legend(peeps_sorted, bbox_to_anchor=(0., 1.02, 1., .102), loc=3, mode=\"expand\", borderaxespad=0., ncol=6, fancybox=True, shadow=True)\n",
    "    fig.autofmt_xdate()\n",
    "    plt.style.use('ggplot')\n",
    "    plt.show()"
   ]
  },
  {
   "cell_type": "markdown",
   "metadata": {},
   "source": [
    "## Create a function to calculate the # of locked Over Unders"
   ]
  },
  {
   "cell_type": "code",
   "execution_count": 23,
   "metadata": {},
   "outputs": [],
   "source": [
    "def calc_locked():\n",
    "    \"\"\"\n",
    "    Function that calculates whether or not the teams under/over is locked based on actual win totals and \n",
    "    games remaining, assigns them a 1 or 0 respectively and adds that value to a new column in the dataFrame\n",
    "    \"\"\"\n",
    "    team_lock = []\n",
    "    team_outcome = []\n",
    "    curWins = master_projections['Current Wins']\n",
    "    overUnder = master_projections['Over/Under']\n",
    "    gamesLeft = master_projections['Games Left']\n",
    "    \n",
    "    for wins, ovun, gameRem in zip(curWins, overUnder, gamesLeft):\n",
    "        if ((int(wins) > ovun)  | ((int(wins) + int(gameRem)) < ovun)):\n",
    "            team_lock.append(1)\n",
    "            if (int(wins) > ovun):\n",
    "                team_outcome.append('O')\n",
    "            else:\n",
    "                team_outcome.append('U')\n",
    "        else:\n",
    "            team_lock.append(0)\n",
    "            team_outcome.append('')\n",
    "            \n",
    "    master_projections['Is Locked'] = pd.Series(team_lock).values\n",
    "    master_projections['Locked Outcome'] = pd.Series(team_outcome).values"
   ]
  },
  {
   "cell_type": "markdown",
   "metadata": {},
   "source": [
    "## Call the calc_locked function"
   ]
  },
  {
   "cell_type": "code",
   "execution_count": 24,
   "metadata": {},
   "outputs": [],
   "source": [
    "calc_locked()"
   ]
  },
  {
   "cell_type": "markdown",
   "metadata": {},
   "source": [
    "## Create a function to calculate the # of locked Over Unders of individual bettors"
   ]
  },
  {
   "cell_type": "code",
   "execution_count": 27,
   "metadata": {},
   "outputs": [],
   "source": [
    "def locked_right(a_list):\n",
    "    \"\"\"\n",
    "    Function that takes a list of single characters and calculates whether or not the characters bet was over \n",
    "    or under based on actual win totals and games remaining, assigns them a 1 or 0 respectively and adds that\n",
    "    value to a new column in the dataFrame\n",
    "    \"\"\"\n",
    "    for s in a_list:\n",
    "        locked_nums = []\n",
    "        curWins = master_projections['Current Wins']\n",
    "        overUnder = master_projections['Over/Under']\n",
    "        gamesLeft = master_projections['Games Left']\n",
    "        guess = master_projections['%s'% s['character']]\n",
    "        for wins, ovun, gameRem, pick in zip(curWins, overUnder, gamesLeft, guess):\n",
    "            if (((int(wins) > ovun) & (pick == 'O')) | (((int(wins) + int(gameRem)) < ovun) & (pick == 'U'))):\n",
    "                locked_nums.append(1)\n",
    "            else:\n",
    "                locked_nums.append(0)\n",
    "        se = pd.Series(locked_nums)\n",
    "        master_projections['%s Locked #'% s['character']] = se.values"
   ]
  },
  {
   "cell_type": "markdown",
   "metadata": {},
   "source": [
    "## Call the locked_right function, and pass in the list of friends"
   ]
  },
  {
   "cell_type": "code",
   "execution_count": 28,
   "metadata": {},
   "outputs": [],
   "source": [
    "locked_right(migos)"
   ]
  },
  {
   "cell_type": "markdown",
   "metadata": {},
   "source": [
    "## Create a function to calculate the amount of locked $ won"
   ]
  },
  {
   "cell_type": "code",
   "execution_count": 29,
   "metadata": {},
   "outputs": [],
   "source": [
    "def locked_money(a_list):\n",
    "    \"\"\"\n",
    "    Function that takes a list of single characters and calculates the amount of locked money won  \n",
    "    based on the amount of capital allocated and whether or not the over under was correct and \n",
    "    no longer undetermined. The result is added to a new column in the dataFrame\n",
    "    \"\"\"\n",
    "    for s in a_list:\n",
    "        locked_bills = []\n",
    "        bets = master_projections['%s Bets'% s['character']] \n",
    "        overunWins = master_projections['%s Locked #'% s['character']] \n",
    "        for b, o in zip(bets, overunWins):\n",
    "            locked_bills.append(b*o)\n",
    "        se = pd.Series(locked_bills)\n",
    "        master_projections['%s Locked $'% s['character']] = se.values"
   ]
  },
  {
   "cell_type": "markdown",
   "metadata": {},
   "source": [
    "## Call the locked_money function, and pass in the list of friends"
   ]
  },
  {
   "cell_type": "code",
   "execution_count": 30,
   "metadata": {},
   "outputs": [],
   "source": [
    "locked_money(migos)"
   ]
  },
  {
   "cell_type": "markdown",
   "metadata": {},
   "source": [
    "## Create Pandas dataFrame with the Total Locked O/Us and Total Locked Money Won"
   ]
  },
  {
   "cell_type": "code",
   "execution_count": 31,
   "metadata": {},
   "outputs": [],
   "source": [
    "temp_locked_total = [master_projections['%s Locked #'% s['character']].sum() for s in migos]\n",
    "temp_locked_money = [master_projections['%s Locked $'% s['character']].sum() for s in migos]\n",
    "new_total = [dict(zip(peeps, temp_locked_total)), dict(zip(peeps, temp_locked_money))]\n",
    "locked_total = pd.DataFrame(new_total)\n",
    "locked_total.rename(index={0:'Correct O/Us',1:'Money Won'}, inplace=True)"
   ]
  },
  {
   "cell_type": "markdown",
   "metadata": {},
   "source": [
    "## Create function to retrieve locked teams and their outcome"
   ]
  },
  {
   "cell_type": "code",
   "execution_count": 42,
   "metadata": {},
   "outputs": [],
   "source": [
    "def get_locked_teams():\n",
    "    \"\"\"Function to retrieve locked teams and their outcome\"\"\"\n",
    "    return master_projections.loc[master_projections['Is Locked'] == 1, ['Teams', 'Locked Outcome']]"
   ]
  }
 ],
 "metadata": {
  "kernelspec": {
   "display_name": "Python 3",
   "language": "python",
   "name": "python3"
  },
  "language_info": {
   "codemirror_mode": {
    "name": "ipython",
    "version": 3
   },
   "file_extension": ".py",
   "mimetype": "text/x-python",
   "name": "python",
   "nbconvert_exporter": "python",
   "pygments_lexer": "ipython3",
   "version": "3.7.6"
  }
 },
 "nbformat": 4,
 "nbformat_minor": 4
}
